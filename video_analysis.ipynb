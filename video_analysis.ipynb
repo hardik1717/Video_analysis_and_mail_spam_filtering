{
 "cells": [
  {
   "cell_type": "code",
   "execution_count": 1,
   "id": "85b954a4",
   "metadata": {},
   "outputs": [],
   "source": [
    "#!pip install vosk"
   ]
  },
  {
   "cell_type": "code",
   "execution_count": 1,
   "id": "1d2542a0",
   "metadata": {},
   "outputs": [],
   "source": [
    "import cv2\n",
    "import numpy as np\n",
    "import moviepy.editor as mp\n",
    "from pydub import AudioSegment\n",
    "from pydub.playback import play\n",
    "from vosk import Model, KaldiRecognizer"
   ]
  },
  {
   "cell_type": "code",
   "execution_count": 4,
   "id": "130673e0",
   "metadata": {},
   "outputs": [],
   "source": [
    "video_path = r\"sample_video2.mp4\"\n",
    "audio_path = \"audio.wav\""
   ]
  },
  {
   "cell_type": "markdown",
   "id": "58199610",
   "metadata": {},
   "source": [
    "#### Extracting audio from video:"
   ]
  },
  {
   "cell_type": "code",
   "execution_count": 5,
   "id": "972578d1",
   "metadata": {},
   "outputs": [],
   "source": [
    "def extract_audio(video_path, audio_path):\n",
    "    video = mp.VideoFileClip(video_path)\n",
    "    audio = video.audio\n",
    "    print(audio)\n",
    "    audio.write_audiofile(audio_path)"
   ]
  },
  {
   "cell_type": "code",
   "execution_count": 6,
   "id": "88f29eb3",
   "metadata": {},
   "outputs": [
    {
     "name": "stdout",
     "output_type": "stream",
     "text": [
      "<moviepy.audio.io.AudioFileClip.AudioFileClip object at 0x000002A9A4512310>\n",
      "MoviePy - Writing audio in audio2.wav\n"
     ]
    },
    {
     "name": "stderr",
     "output_type": "stream",
     "text": [
      "                                                                                                                       "
     ]
    },
    {
     "name": "stdout",
     "output_type": "stream",
     "text": [
      "MoviePy - Done.\n"
     ]
    },
    {
     "name": "stderr",
     "output_type": "stream",
     "text": [
      "\r"
     ]
    }
   ],
   "source": [
    "extract_audio(video_path, audio_path)"
   ]
  },
  {
   "cell_type": "markdown",
   "id": "6991d9af",
   "metadata": {},
   "source": [
    "#### Detect faces in video"
   ]
  },
  {
   "cell_type": "code",
   "execution_count": null,
   "id": "4d74d8d7",
   "metadata": {},
   "outputs": [],
   "source": [
    "def detect_faces(video_path):\n",
    "    face_cascade = cv2.CascadeClassifier(cv2.data.haarcascades + 'haarcascade_frontalface_default.xml')\n",
    "    video_capture = cv2.VideoCapture(video_path)\n",
    "\n",
    "    while True:\n",
    "        ret, frame = video_capture.read()\n",
    "        if not ret:\n",
    "            break\n",
    "\n",
    "        gray = cv2.cvtColor(frame, cv2.COLOR_BGR2GRAY)\n",
    "        faces = face_cascade.detectMultiScale(gray, scaleFactor=1.1, minNeighbors=5, minSize=(30, 30))\n",
    "\n",
    "        for (x, y, w, h) in faces:\n",
    "            cv2.rectangle(frame, (x, y), (x+w, y+h), (0, 255, 0), 2)\n",
    "\n",
    "        cv2.imshow('Video', frame)\n",
    "\n",
    "        if cv2.waitKey(1) & 0xFF == ord('q'):\n",
    "            break\n",
    "\n",
    "    video_capture.release()\n",
    "    cv2.destroyAllWindows()"
   ]
  },
  {
   "cell_type": "code",
   "execution_count": null,
   "id": "c0e4754f",
   "metadata": {},
   "outputs": [],
   "source": [
    "detect_faces(video_path)"
   ]
  },
  {
   "cell_type": "markdown",
   "id": "77e71e51",
   "metadata": {},
   "source": [
    "#### Detect images in video"
   ]
  },
  {
   "cell_type": "code",
   "execution_count": 9,
   "id": "e0be1018",
   "metadata": {},
   "outputs": [],
   "source": [
    "def detect_images(video_path):\n",
    "    net = cv2.dnn.readNet(\"yolov3.weights\", \"yolov3.cfg\")\n",
    "    with open(\"coco.names\", \"r\") as f:\n",
    "        classes = [line.strip() for line in f.readlines()]\n",
    "\n",
    "    layer_names = net.getLayerNames()\n",
    "    output_layers = [layer_names[i - 1] for i in net.getUnconnectedOutLayers()]\n",
    "\n",
    "    cap = cv2.VideoCapture(video_path)\n",
    "\n",
    "    while True:\n",
    "        ret, frame = cap.read()\n",
    "        if not ret:\n",
    "            break\n",
    "\n",
    "        height, width, channels = frame.shape\n",
    "\n",
    "        blob = cv2.dnn.blobFromImage(frame, 0.00392, (416, 416), (0, 0, 0), True, crop=False)\n",
    "        net.setInput(blob)\n",
    "        outs = net.forward(output_layers)\n",
    "\n",
    "        for out in outs:\n",
    "            for detection in out:\n",
    "                scores = detection[5:]\n",
    "                class_id = np.argmax(scores)\n",
    "                confidence = scores[class_id]\n",
    "                if confidence > 0.5 and class_id == 0:  # Assuming class_id 0 corresponds to person\n",
    "                    center_x = int(detection[0] * width)\n",
    "                    center_y = int(detection[1] * height)\n",
    "                    w = int(detection[2] * width)\n",
    "                    h = int(detection[3] * height)\n",
    "                    x = int(center_x - w / 2)\n",
    "                    y = int(center_y - h / 2)\n",
    "                    cv2.rectangle(frame, (x, y), (x + w, y + h), (0, 255, 0), 2)\n",
    "\n",
    "        cv2.imshow(\"Video\", frame)\n",
    "\n",
    "        if cv2.waitKey(1) & 0xFF == ord('q'):\n",
    "            break\n",
    "\n",
    "    cap.release()\n",
    "    cv2.destroyAllWindows()"
   ]
  },
  {
   "cell_type": "code",
   "execution_count": null,
   "id": "8a118377",
   "metadata": {},
   "outputs": [],
   "source": [
    "detect_images(video_path)"
   ]
  },
  {
   "cell_type": "code",
   "execution_count": 26,
   "id": "7ff5e7d4",
   "metadata": {},
   "outputs": [],
   "source": [
    "# def diarize_speakers(audio_path):\n",
    "#     model = Model(\"vosk-model-spk-0.4\")\n",
    "#     audio = AudioSegment.from_wav(audio_path)\n",
    "#     recognizer = KaldiRecognizer(model, audio.frame_rate)\n",
    "\n",
    "#     # Split the audio into chunks and process each chunk\n",
    "#     chunk_size = 10  \n",
    "#     for i in range(0, len(audio.raw_data), chunk_size * audio.frame_width):\n",
    "#         chunk = audio.raw_data[i:i + chunk_size * audio.frame_width]\n",
    "#         if recognizer.AcceptWaveform(chunk):\n",
    "#             result = recognizer.Result()\n",
    "#             print(result)\n",
    "\n",
    "#     # Finalize the recognition\n",
    "#     result = recognizer.FinalResult()\n",
    "#     print(result)"
   ]
  },
  {
   "cell_type": "code",
   "execution_count": null,
   "id": "56f76d50",
   "metadata": {},
   "outputs": [],
   "source": [
    "# diarize_speakers(audio_path)"
   ]
  },
  {
   "cell_type": "code",
   "execution_count": null,
   "id": "260bbc25",
   "metadata": {},
   "outputs": [],
   "source": []
  }
 ],
 "metadata": {
  "kernelspec": {
   "display_name": "Python 3 (ipykernel)",
   "language": "python",
   "name": "python3"
  },
  "language_info": {
   "codemirror_mode": {
    "name": "ipython",
    "version": 3
   },
   "file_extension": ".py",
   "mimetype": "text/x-python",
   "name": "python",
   "nbconvert_exporter": "python",
   "pygments_lexer": "ipython3",
   "version": "3.9.12"
  }
 },
 "nbformat": 4,
 "nbformat_minor": 5
}
